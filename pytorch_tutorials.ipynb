{
  "nbformat": 4,
  "nbformat_minor": 0,
  "metadata": {
    "colab": {
      "provenance": [],
      "collapsed_sections": [
        "55ua2fUowQ4J",
        "GhJ6HtIdijE0",
        "046HgB1skWXv",
        "rqLyrv2YwOau",
        "qHdX9BRY8UHs",
        "L220xiSz8gkP"
      ],
      "authorship_tag": "ABX9TyPoqVDMdMciK5ji4sgLNvRC",
      "include_colab_link": true
    },
    "kernelspec": {
      "name": "python3",
      "display_name": "Python 3"
    },
    "language_info": {
      "name": "python"
    }
  },
  "cells": [
    {
      "cell_type": "markdown",
      "metadata": {
        "id": "view-in-github",
        "colab_type": "text"
      },
      "source": [
        "<a href=\"https://colab.research.google.com/github/piyushjharbade/Pytorch_tutorials/blob/main/pytorch_tutorials.ipynb\" target=\"_parent\"><img src=\"https://colab.research.google.com/assets/colab-badge.svg\" alt=\"Open In Colab\"/></a>"
      ]
    },
    {
      "cell_type": "code",
      "execution_count": null,
      "metadata": {
        "colab": {
          "base_uri": "https://localhost:8080/"
        },
        "id": "mMigAs6EnX_r",
        "outputId": "073630c4-60c2-4f5a-8ba1-6a760048ccc2"
      },
      "outputs": [
        {
          "output_type": "stream",
          "name": "stdout",
          "text": [
            "/bin/bash: line 1: nvidia-smi: command not found\n"
          ]
        }
      ],
      "source": [
        "!nvidia-smi"
      ]
    },
    {
      "cell_type": "code",
      "source": [
        "import torch\n",
        "import matplotlib.pyplot as plt\n",
        "import pandas as pd\n",
        "import numpy as np\n",
        "print(torch.__version__)\n"
      ],
      "metadata": {
        "colab": {
          "base_uri": "https://localhost:8080/"
        },
        "id": "hmxv8dWcsuc6",
        "outputId": "53a8fd43-6308-450d-f372-6b34a0ca0ea0"
      },
      "execution_count": 2,
      "outputs": [
        {
          "output_type": "stream",
          "name": "stdout",
          "text": [
            "2.5.1+cu121\n"
          ]
        }
      ]
    },
    {
      "cell_type": "markdown",
      "source": [
        "#TENSORS: multidimensional data(maybe multidimensional matrix), (think of it as a data type)"
      ],
      "metadata": {
        "id": "55ua2fUowQ4J"
      }
    },
    {
      "cell_type": "code",
      "source": [
        "#scalar\n",
        "scalar=torch.tensor(7)\n",
        "scalar"
      ],
      "metadata": {
        "colab": {
          "base_uri": "https://localhost:8080/"
        },
        "id": "DgaHow_mssx-",
        "outputId": "c63388ae-14f8-4151-8b96-e38048d1af35"
      },
      "execution_count": null,
      "outputs": [
        {
          "output_type": "execute_result",
          "data": {
            "text/plain": [
              "tensor(7)"
            ]
          },
          "metadata": {},
          "execution_count": 3
        }
      ]
    },
    {
      "cell_type": "code",
      "source": [
        "scalar.ndim\n",
        "#gives zero because a scalar has no dimensions, it is a single number"
      ],
      "metadata": {
        "colab": {
          "base_uri": "https://localhost:8080/"
        },
        "id": "kjhOkZLVwl-3",
        "outputId": "b75cb4f1-c86d-4bf2-c07e-c4fff624d372"
      },
      "execution_count": null,
      "outputs": [
        {
          "output_type": "execute_result",
          "data": {
            "text/plain": [
              "0"
            ]
          },
          "metadata": {},
          "execution_count": 5
        }
      ]
    },
    {
      "cell_type": "code",
      "source": [
        "#Get the tensor element back as a typecasted into python int\n",
        "scalar.item()"
      ],
      "metadata": {
        "colab": {
          "base_uri": "https://localhost:8080/"
        },
        "id": "PpuLzuVyxUbM",
        "outputId": "3cea8f88-a8d6-4a43-9959-321be2d058f5"
      },
      "execution_count": null,
      "outputs": [
        {
          "output_type": "execute_result",
          "data": {
            "text/plain": [
              "7"
            ]
          },
          "metadata": {},
          "execution_count": 6
        }
      ]
    },
    {
      "cell_type": "code",
      "source": [
        "#Vector\n",
        "vector=torch.tensor([7,7])\n",
        "vector"
      ],
      "metadata": {
        "colab": {
          "base_uri": "https://localhost:8080/"
        },
        "id": "8C7Tznmpxnax",
        "outputId": "e05dc402-eace-43b2-8b34-78bcf877f4e2"
      },
      "execution_count": null,
      "outputs": [
        {
          "output_type": "execute_result",
          "data": {
            "text/plain": [
              "tensor([7, 7])"
            ]
          },
          "metadata": {},
          "execution_count": 7
        }
      ]
    },
    {
      "cell_type": "code",
      "source": [
        "vector.ndim"
      ],
      "metadata": {
        "colab": {
          "base_uri": "https://localhost:8080/"
        },
        "id": "jFXohP8Gx4Qd",
        "outputId": "bdaff709-d27d-4f96-d398-e6f9aec71bfb"
      },
      "execution_count": null,
      "outputs": [
        {
          "output_type": "execute_result",
          "data": {
            "text/plain": [
              "1"
            ]
          },
          "metadata": {},
          "execution_count": 8
        }
      ]
    },
    {
      "cell_type": "code",
      "source": [
        "vector.shape\n",
        "#returns the number of elements in the vector"
      ],
      "metadata": {
        "colab": {
          "base_uri": "https://localhost:8080/"
        },
        "id": "WLmpHNCGyBd_",
        "outputId": "4cb49ee1-1ffe-4cba-c1f9-da4deacf990d"
      },
      "execution_count": null,
      "outputs": [
        {
          "output_type": "execute_result",
          "data": {
            "text/plain": [
              "torch.Size([2])"
            ]
          },
          "metadata": {},
          "execution_count": 10
        }
      ]
    },
    {
      "cell_type": "code",
      "source": [
        "#MATRIX\n",
        "matrix=torch.tensor([[1,2],[2,3]])\n",
        "matrix"
      ],
      "metadata": {
        "colab": {
          "base_uri": "https://localhost:8080/"
        },
        "id": "B2lNTwGOyDwY",
        "outputId": "465be677-cbd1-4a40-a4fa-c7e6172ed4d0"
      },
      "execution_count": null,
      "outputs": [
        {
          "output_type": "execute_result",
          "data": {
            "text/plain": [
              "tensor([[1, 2],\n",
              "        [2, 3]])"
            ]
          },
          "metadata": {},
          "execution_count": 11
        }
      ]
    },
    {
      "cell_type": "code",
      "source": [
        "matrix.shape\n",
        "#returns the general shape of the matrix, i.e. mxn"
      ],
      "metadata": {
        "colab": {
          "base_uri": "https://localhost:8080/"
        },
        "id": "Po2N6Ealycrt",
        "outputId": "6df25839-1fa5-4c6c-ee66-0660aac9414e"
      },
      "execution_count": null,
      "outputs": [
        {
          "output_type": "execute_result",
          "data": {
            "text/plain": [
              "torch.Size([2, 2])"
            ]
          },
          "metadata": {},
          "execution_count": 13
        }
      ]
    },
    {
      "cell_type": "code",
      "source": [
        "matrix.ndim"
      ],
      "metadata": {
        "colab": {
          "base_uri": "https://localhost:8080/"
        },
        "id": "3Qs-ZpJyygLK",
        "outputId": "448dbefd-99c4-47cc-a5d8-d3a8ba372ace"
      },
      "execution_count": null,
      "outputs": [
        {
          "output_type": "execute_result",
          "data": {
            "text/plain": [
              "2"
            ]
          },
          "metadata": {},
          "execution_count": 14
        }
      ]
    },
    {
      "cell_type": "code",
      "source": [
        "matrix[0]"
      ],
      "metadata": {
        "colab": {
          "base_uri": "https://localhost:8080/"
        },
        "id": "cm_UTOxIyr8U",
        "outputId": "f98f9b5a-653c-44b8-d3ce-48f4d276f882"
      },
      "execution_count": null,
      "outputs": [
        {
          "output_type": "execute_result",
          "data": {
            "text/plain": [
              "tensor([1, 2])"
            ]
          },
          "metadata": {},
          "execution_count": 15
        }
      ]
    },
    {
      "cell_type": "code",
      "source": [
        "matrix[1]"
      ],
      "metadata": {
        "colab": {
          "base_uri": "https://localhost:8080/"
        },
        "id": "60qikX_ryvcn",
        "outputId": "c69ca208-d924-4626-8d14-f8ec33b09a21"
      },
      "execution_count": null,
      "outputs": [
        {
          "output_type": "execute_result",
          "data": {
            "text/plain": [
              "tensor([2, 3])"
            ]
          },
          "metadata": {},
          "execution_count": 16
        }
      ]
    },
    {
      "cell_type": "code",
      "source": [
        "matrix[1,1]"
      ],
      "metadata": {
        "colab": {
          "base_uri": "https://localhost:8080/"
        },
        "id": "FLOZ55Cyyzaj",
        "outputId": "f5afab14-e17f-44b4-f929-2a989f66627d"
      },
      "execution_count": null,
      "outputs": [
        {
          "output_type": "execute_result",
          "data": {
            "text/plain": [
              "tensor(3)"
            ]
          },
          "metadata": {},
          "execution_count": 19
        }
      ]
    },
    {
      "cell_type": "code",
      "source": [
        "#TENSOR\n",
        "TENSOR= torch.tensor([[[1,2,3],[4,5,6], [7,8,9]]])\n",
        "TENSOR"
      ],
      "metadata": {
        "colab": {
          "base_uri": "https://localhost:8080/"
        },
        "id": "fi72Dzx5y5VY",
        "outputId": "ae70c055-3e0f-4405-caf9-585029e1592e"
      },
      "execution_count": null,
      "outputs": [
        {
          "output_type": "execute_result",
          "data": {
            "text/plain": [
              "tensor([[[1, 2, 3],\n",
              "         [4, 5, 6],\n",
              "         [7, 8, 9]]])"
            ]
          },
          "metadata": {},
          "execution_count": 20
        }
      ]
    },
    {
      "cell_type": "code",
      "source": [
        "TENSOR.ndim"
      ],
      "metadata": {
        "colab": {
          "base_uri": "https://localhost:8080/"
        },
        "id": "HEJ-Qe1zzii3",
        "outputId": "9a6c98cb-024f-4513-ae5a-3fc4a67f5e14"
      },
      "execution_count": null,
      "outputs": [
        {
          "output_type": "execute_result",
          "data": {
            "text/plain": [
              "3"
            ]
          },
          "metadata": {},
          "execution_count": 21
        }
      ]
    },
    {
      "cell_type": "code",
      "source": [
        " TENSOR.shape\n",
        " #(outer row vector, inner vectors of the outer vector , element in each inner vector )\n",
        " #it says 1(the outer most sq bracket), the 3 with middle bracket(for vector each containing 3 elements), then 3 for inner most bracket telling each vector containing 3 elements"
      ],
      "metadata": {
        "colab": {
          "base_uri": "https://localhost:8080/"
        },
        "id": "7zZYgCV-zpEI",
        "outputId": "995221f2-83c5-4d23-a049-f25cd6b044b4"
      },
      "execution_count": null,
      "outputs": [
        {
          "output_type": "execute_result",
          "data": {
            "text/plain": [
              "torch.Size([1, 3, 3])"
            ]
          },
          "metadata": {},
          "execution_count": 25
        }
      ]
    },
    {
      "cell_type": "code",
      "source": [
        "print(TENSOR[0], end=\"\\n\\n\")\n",
        "\n",
        "print(TENSOR[0,1], end=\"\\n\\n\")\n",
        "\n",
        "print(TENSOR[0,1,1])\n",
        "\n",
        "#here we are giving dimension in the []"
      ],
      "metadata": {
        "colab": {
          "base_uri": "https://localhost:8080/"
        },
        "id": "RhQwB9mZzwsg",
        "outputId": "946ea42d-9121-49e1-a880-d791c2f5354c"
      },
      "execution_count": null,
      "outputs": [
        {
          "output_type": "stream",
          "name": "stdout",
          "text": [
            "tensor([[1, 2, 3],\n",
            "        [4, 5, 6],\n",
            "        [7, 8, 9]])\n",
            "\n",
            "tensor([4, 5, 6])\n",
            "\n",
            "tensor(5)\n"
          ]
        }
      ]
    },
    {
      "cell_type": "markdown",
      "source": [
        "Random tensors\n",
        "\n",
        "Random tensors are important because the way many neural networks learn is that they start with tensors full of random numbers and then adjust those random numbers to better represent the data.\n",
        "\n",
        "neural network: start with random numbers--> look at data--> update random numbers\n"
      ],
      "metadata": {
        "id": "BROAOYEcgpau"
      }
    },
    {
      "cell_type": "code",
      "source": [
        "#createing a random tensor\n",
        "random_tensor=torch.rand(3,4)\n",
        "random_tensor"
      ],
      "metadata": {
        "id": "hhjvkEmX0gAC",
        "colab": {
          "base_uri": "https://localhost:8080/"
        },
        "outputId": "458d9624-d457-4301-aa3e-94e40960efb3"
      },
      "execution_count": null,
      "outputs": [
        {
          "output_type": "execute_result",
          "data": {
            "text/plain": [
              "tensor([[[0.1896, 0.6855, 0.3793, 0.5154],\n",
              "         [0.3243, 0.4761, 0.2378, 0.9742],\n",
              "         [0.6582, 0.4158, 0.4054, 0.9975]]])"
            ]
          },
          "metadata": {},
          "execution_count": 6
        }
      ]
    },
    {
      "cell_type": "code",
      "source": [
        "random_tensor.ndim"
      ],
      "metadata": {
        "colab": {
          "base_uri": "https://localhost:8080/"
        },
        "id": "gBw8DobRh4QO",
        "outputId": "c8a50768-03a0-4ec1-999b-d2261a00240f"
      },
      "execution_count": null,
      "outputs": [
        {
          "output_type": "execute_result",
          "data": {
            "text/plain": [
              "3"
            ]
          },
          "metadata": {},
          "execution_count": 7
        }
      ]
    },
    {
      "cell_type": "code",
      "source": [
        "random_tensor.shape"
      ],
      "metadata": {
        "colab": {
          "base_uri": "https://localhost:8080/"
        },
        "id": "DXWgj_E3iVhi",
        "outputId": "28c37163-e4a5-4bc9-ec57-84f878cc9461"
      },
      "execution_count": null,
      "outputs": [
        {
          "output_type": "execute_result",
          "data": {
            "text/plain": [
              "torch.Size([1, 3, 4])"
            ]
          },
          "metadata": {},
          "execution_count": 8
        }
      ]
    },
    {
      "cell_type": "code",
      "source": [
        "#creating a random tensor with similar shape as that of a image tensor\n",
        "R=torch.rand(size=(200,200,3)) #height, width, color channels\n",
        "R.shape, R.ndim"
      ],
      "metadata": {
        "colab": {
          "base_uri": "https://localhost:8080/"
        },
        "id": "Hl41jtkGirz5",
        "outputId": "8103f32d-d839-4435-a185-1fa81033e8d2"
      },
      "execution_count": null,
      "outputs": [
        {
          "output_type": "execute_result",
          "data": {
            "text/plain": [
              "(torch.Size([200, 200, 3]), 3)"
            ]
          },
          "metadata": {},
          "execution_count": 9
        }
      ]
    },
    {
      "cell_type": "code",
      "source": [
        "R[150,150]\n"
      ],
      "metadata": {
        "colab": {
          "base_uri": "https://localhost:8080/"
        },
        "id": "tmEgmkEPjO71",
        "outputId": "95d0172e-b3ca-4596-9235-494aaeb4aa42"
      },
      "execution_count": null,
      "outputs": [
        {
          "output_type": "execute_result",
          "data": {
            "text/plain": [
              "tensor([0.9471, 0.9268, 0.3475])"
            ]
          },
          "metadata": {},
          "execution_count": 15
        }
      ]
    },
    {
      "cell_type": "code",
      "source": [
        "R2=torch.rand(3,4)\n",
        "z=torch.zeros(3,4)\n",
        "R2,  z, R2*z"
      ],
      "metadata": {
        "colab": {
          "base_uri": "https://localhost:8080/"
        },
        "id": "UURmF6UCjV2B",
        "outputId": "f8616ade-fd63-4625-8665-a938d7149f80"
      },
      "execution_count": null,
      "outputs": [
        {
          "output_type": "execute_result",
          "data": {
            "text/plain": [
              "(tensor([[0.0824, 0.5199, 0.6756, 0.8731],\n",
              "         [0.2928, 0.9833, 0.3900, 0.3781],\n",
              "         [0.5224, 0.3032, 0.5188, 0.5920]]),\n",
              " tensor([[0., 0., 0., 0.],\n",
              "         [0., 0., 0., 0.],\n",
              "         [0., 0., 0., 0.]]),\n",
              " tensor([[0., 0., 0., 0.],\n",
              "         [0., 0., 0., 0.],\n",
              "         [0., 0., 0., 0.]]))"
            ]
          },
          "metadata": {},
          "execution_count": 16
        }
      ]
    },
    {
      "cell_type": "code",
      "source": [
        "o1=torch.ones(3,4)\n",
        "o2=torch.ones(3,4)\n",
        "o1+o2"
      ],
      "metadata": {
        "colab": {
          "base_uri": "https://localhost:8080/"
        },
        "id": "dgFs57ArkwAU",
        "outputId": "850754b0-b430-4148-c7df-83bd57b85280"
      },
      "execution_count": null,
      "outputs": [
        {
          "output_type": "execute_result",
          "data": {
            "text/plain": [
              "tensor([[2., 2., 2., 2.],\n",
              "        [2., 2., 2., 2.],\n",
              "        [2., 2., 2., 2.]])"
            ]
          },
          "metadata": {},
          "execution_count": 19
        }
      ]
    },
    {
      "cell_type": "code",
      "source": [
        " z.dtype, o1.dtype"
      ],
      "metadata": {
        "colab": {
          "base_uri": "https://localhost:8080/"
        },
        "id": "brIV3nq7lEJT",
        "outputId": "dba7014a-8bff-4bda-a9d7-d23689191fda"
      },
      "execution_count": null,
      "outputs": [
        {
          "output_type": "execute_result",
          "data": {
            "text/plain": [
              "(torch.float32, torch.float32)"
            ]
          },
          "metadata": {},
          "execution_count": 21
        }
      ]
    },
    {
      "cell_type": "code",
      "source": [
        "o=torch.ones(size=[3,4,5])\n",
        "o"
      ],
      "metadata": {
        "colab": {
          "base_uri": "https://localhost:8080/"
        },
        "id": "hFkkTONzhVXt",
        "outputId": "d44d06d7-d770-4d1a-8848-4c6ac473e9a0"
      },
      "execution_count": null,
      "outputs": [
        {
          "output_type": "execute_result",
          "data": {
            "text/plain": [
              "tensor([[[1., 1., 1., 1., 1.],\n",
              "         [1., 1., 1., 1., 1.],\n",
              "         [1., 1., 1., 1., 1.],\n",
              "         [1., 1., 1., 1., 1.]],\n",
              "\n",
              "        [[1., 1., 1., 1., 1.],\n",
              "         [1., 1., 1., 1., 1.],\n",
              "         [1., 1., 1., 1., 1.],\n",
              "         [1., 1., 1., 1., 1.]],\n",
              "\n",
              "        [[1., 1., 1., 1., 1.],\n",
              "         [1., 1., 1., 1., 1.],\n",
              "         [1., 1., 1., 1., 1.],\n",
              "         [1., 1., 1., 1., 1.]]])"
            ]
          },
          "metadata": {},
          "execution_count": 13
        }
      ]
    },
    {
      "cell_type": "code",
      "source": [
        "o[1]=o[1]*0\n",
        "o\n",
        "o[1,1,1]=o[1,1,1]+1\n",
        "o"
      ],
      "metadata": {
        "colab": {
          "base_uri": "https://localhost:8080/"
        },
        "id": "SquwUhothiLI",
        "outputId": "355423ac-f8df-45f8-a028-29c5dcfa3039"
      },
      "execution_count": null,
      "outputs": [
        {
          "output_type": "execute_result",
          "data": {
            "text/plain": [
              "tensor([[[1., 1., 1., 1., 1.],\n",
              "         [1., 1., 1., 1., 1.],\n",
              "         [1., 1., 1., 1., 1.],\n",
              "         [1., 1., 1., 1., 1.]],\n",
              "\n",
              "        [[0., 0., 0., 0., 0.],\n",
              "         [0., 1., 0., 0., 0.],\n",
              "         [0., 0., 0., 0., 0.],\n",
              "         [0., 0., 0., 0., 0.]],\n",
              "\n",
              "        [[1., 1., 1., 1., 1.],\n",
              "         [1., 1., 1., 1., 1.],\n",
              "         [1., 1., 1., 1., 1.],\n",
              "         [1., 1., 1., 1., 1.]]])"
            ]
          },
          "metadata": {},
          "execution_count": 15
        }
      ]
    },
    {
      "cell_type": "markdown",
      "source": [
        "#Creating a range of tensors and tensors-like"
      ],
      "metadata": {
        "id": "GhJ6HtIdijE0"
      }
    },
    {
      "cell_type": "code",
      "source": [
        "k=torch.range(1000,1, -77) #soon \"range\" is going to get depricated\n",
        "ott=torch.arange(1, 11, 1)\n",
        "k, ott"
      ],
      "metadata": {
        "colab": {
          "base_uri": "https://localhost:8080/"
        },
        "id": "Ub5qldOSlSJg",
        "outputId": "b9114462-5fb2-4de9-c103-49d6ec9c8ecd"
      },
      "execution_count": null,
      "outputs": [
        {
          "output_type": "stream",
          "name": "stderr",
          "text": [
            "<ipython-input-33-f40e148a5b45>:1: UserWarning: torch.range is deprecated and will be removed in a future release because its behavior is inconsistent with Python's range builtin. Instead, use torch.arange, which produces values in [start, end).\n",
            "  k=torch.range(1000,1, -77)\n"
          ]
        },
        {
          "output_type": "execute_result",
          "data": {
            "text/plain": [
              "(tensor([1000.,  923.,  846.,  769.,  692.,  615.,  538.,  461.,  384.,  307.,\n",
              "          230.,  153.,   76.]),\n",
              " tensor([ 1,  2,  3,  4,  5,  6,  7,  8,  9, 10]))"
            ]
          },
          "metadata": {},
          "execution_count": 33
        }
      ]
    },
    {
      "cell_type": "code",
      "source": [
        "tz=torch.zeros_like(ott)#_like will do make a new tenor like the argument\n",
        "tz"
      ],
      "metadata": {
        "colab": {
          "base_uri": "https://localhost:8080/"
        },
        "id": "hEhnZ3nwi4eC",
        "outputId": "aa6edc04-65b1-427b-cdc3-b36d4957c468"
      },
      "execution_count": null,
      "outputs": [
        {
          "output_type": "execute_result",
          "data": {
            "text/plain": [
              "tensor([0, 0, 0, 0, 0, 0, 0, 0, 0, 0])"
            ]
          },
          "metadata": {},
          "execution_count": 35
        }
      ]
    },
    {
      "cell_type": "markdown",
      "source": [
        "#Tensor Datatypes"
      ],
      "metadata": {
        "id": "046HgB1skWXv"
      }
    },
    {
      "cell_type": "code",
      "source": [
        "float_32_tensor = torch.tensor([3.0,6.0,9.0], dtype=torch.float16)\n",
        "float_32_tensor.dtype"
      ],
      "metadata": {
        "colab": {
          "base_uri": "https://localhost:8080/"
        },
        "id": "sfUmRzV-jyU4",
        "outputId": "c8dbb961-c82f-4e76-892e-d51cb0d9b643"
      },
      "execution_count": null,
      "outputs": [
        {
          "output_type": "execute_result",
          "data": {
            "text/plain": [
              "torch.float16"
            ]
          },
          "metadata": {},
          "execution_count": 39
        }
      ]
    },
    {
      "cell_type": "code",
      "source": [
        "float_32_tensor = torch.tensor([3.0,6.0,9.0],\n",
        "                               dtype=None, #the type of data type the tensor is e.g. float32, float16, etc. for more look at pytorch documentation\n",
        "                               device=\"cpu\", #what device is your tensor on\n",
        "                               requires_grad=False)# whether or not to track gradients with this tensor operations\n",
        "float_32_tensor.dtype\n",
        "\n"
      ],
      "metadata": {
        "id": "-mXEQX82k0VD"
      },
      "execution_count": null,
      "outputs": []
    },
    {
      "cell_type": "markdown",
      "source": [
        "why data type is a big deal while creating a tensor?\n",
        "\n",
        "**NOTE:** Tensor datatypes has 3 big issues with tensor attributes(errors that we run into) with pytorch and deeplearning\n",
        "1. Tensors not right datatype(dtype attribute)\n",
        "2. Tensors not right shape(shape attribute)(shows mostly when we multiply/dot product of 2 tensors)\n",
        "3. Tensors not on right device(device attribute)(e.g. both the tensors are not on the same device), i.e. cpu, gpu(keyword=\"cuda\"), tpu, etc.), all of the tensors by default will go on cpu unless we state it.\n",
        "\n",
        "-->They help in precision(the measure of the detail in which the qty is expressed OR the number of digits used to express a value) and computing\n",
        "\n",
        "NOTE: single-precision floating point is also called float32(i.e the number is represented by 32 bits in the memory same for float16), this make float16 as half-precision.\n",
        "\n",
        "Though the default is float32\n",
        "\n",
        "This is used when we are a ok with the sacrifice of detail in which our numbers are being expressed, so that we can calculate faster on the numbers that take less memory."
      ],
      "metadata": {
        "id": "8IhtfK9AmGuL"
      }
    },
    {
      "cell_type": "markdown",
      "source": [
        "The below is the solution if we ran into 1st type of dtype problem"
      ],
      "metadata": {
        "id": "5Cg2-5u1qgC2"
      }
    },
    {
      "cell_type": "code",
      "source": [
        "F16=float_32_tensor.type(torch.float16) # or we can also do (torch.half)\n",
        "F16\n"
      ],
      "metadata": {
        "colab": {
          "base_uri": "https://localhost:8080/"
        },
        "id": "YyncX65hmjVz",
        "outputId": "e4cd927a-f574-453c-9c44-fbf16b68ef95"
      },
      "execution_count": null,
      "outputs": [
        {
          "output_type": "execute_result",
          "data": {
            "text/plain": [
              "tensor([3., 6., 9.], dtype=torch.float16)"
            ]
          },
          "metadata": {},
          "execution_count": 40
        }
      ]
    },
    {
      "cell_type": "code",
      "source": [
        "K=F16*float_32_tensor #this shows that for small operations it does not give datatype issues\n",
        "K"
      ],
      "metadata": {
        "colab": {
          "base_uri": "https://localhost:8080/"
        },
        "id": "BR9JR32QqaxF",
        "outputId": "3331f503-0ae7-486b-d638-9aa2d8f61549"
      },
      "execution_count": null,
      "outputs": [
        {
          "output_type": "execute_result",
          "data": {
            "text/plain": [
              "tensor([ 9., 36., 81.], dtype=torch.float16)"
            ]
          },
          "metadata": {},
          "execution_count": 43
        }
      ]
    },
    {
      "cell_type": "code",
      "source": [
        "I32=torch.tensor([3,4,5], dtype=torch.int16)\n",
        "F32=torch.tensor([3,4,5], dtype=torch.float32)"
      ],
      "metadata": {
        "id": "0QV5QxcWrcoQ"
      },
      "execution_count": null,
      "outputs": []
    },
    {
      "cell_type": "code",
      "source": [
        "k=F32+I32\n",
        "k, k.dtype"
      ],
      "metadata": {
        "colab": {
          "base_uri": "https://localhost:8080/"
        },
        "id": "xaTt3s95sTrc",
        "outputId": "0087f1f9-bd28-4e6f-dae7-cf3102ad54fa"
      },
      "execution_count": null,
      "outputs": [
        {
          "output_type": "execute_result",
          "data": {
            "text/plain": [
              "(tensor([ 6.,  8., 10.]), torch.float32)"
            ]
          },
          "metadata": {},
          "execution_count": 59
        }
      ]
    },
    {
      "cell_type": "code",
      "source": [
        "k.device"
      ],
      "metadata": {
        "colab": {
          "base_uri": "https://localhost:8080/"
        },
        "id": "QkXORoZasb2J",
        "outputId": "c5e794d3-c4bd-409f-c374-1ef00f2e146d"
      },
      "execution_count": null,
      "outputs": [
        {
          "output_type": "execute_result",
          "data": {
            "text/plain": [
              "device(type='cpu')"
            ]
          },
          "metadata": {},
          "execution_count": 60
        }
      ]
    },
    {
      "cell_type": "code",
      "source": [
        "k.size(), k.shape #this shows size is a function and shape is an attirbute"
      ],
      "metadata": {
        "colab": {
          "base_uri": "https://localhost:8080/"
        },
        "id": "AlWVavOJudJ5",
        "outputId": "e591c34d-e02b-494c-a677-8b61bdeb3f1b"
      },
      "execution_count": null,
      "outputs": [
        {
          "output_type": "execute_result",
          "data": {
            "text/plain": [
              "(torch.Size([3]), torch.Size([3]))"
            ]
          },
          "metadata": {},
          "execution_count": 63
        }
      ]
    },
    {
      "cell_type": "markdown",
      "source": [
        "#Manipulating Tensors(tensor operations)\n",
        "when we are building neural networks, the NN are comprised of many mathematical functions that our pytorch code is going to run behind the scene for us\n",
        "\n",
        "Tensor Operatoins include:\n",
        "* Addition\n",
        "* Subtraction\n",
        "* Multiplication(element-wise)\n",
        "* Division\n",
        "* Matrix multiplication(dot product)"
      ],
      "metadata": {
        "id": "rqLyrv2YwOau"
      }
    },
    {
      "cell_type": "code",
      "source": [
        "TEN=torch.tensor([1,4,7])\n",
        "TEN+10, torch.add(TEN, 10)"
      ],
      "metadata": {
        "colab": {
          "base_uri": "https://localhost:8080/"
        },
        "id": "u_KDS5T-vpcE",
        "outputId": "dee5c29d-6e92-47e0-8297-030c2e526e99"
      },
      "execution_count": null,
      "outputs": [
        {
          "output_type": "execute_result",
          "data": {
            "text/plain": [
              "(tensor([11, 14, 17]), tensor([11, 14, 17]))"
            ]
          },
          "metadata": {},
          "execution_count": 73
        }
      ]
    },
    {
      "cell_type": "code",
      "source": [
        "TEN.dtype"
      ],
      "metadata": {
        "colab": {
          "base_uri": "https://localhost:8080/"
        },
        "id": "KNmFtIFAxozz",
        "outputId": "8954cfd8-c20d-4615-c402-bae2fbbee249"
      },
      "execution_count": null,
      "outputs": [
        {
          "output_type": "execute_result",
          "data": {
            "text/plain": [
              "torch.int64"
            ]
          },
          "metadata": {},
          "execution_count": 71
        }
      ]
    },
    {
      "cell_type": "code",
      "source": [
        "TEN-2, torch.sub(TEN, 2)"
      ],
      "metadata": {
        "colab": {
          "base_uri": "https://localhost:8080/"
        },
        "id": "VVjYDEi4xYXN",
        "outputId": "f20bc00d-cdac-480b-9d34-4c989589c6e4"
      },
      "execution_count": null,
      "outputs": [
        {
          "output_type": "execute_result",
          "data": {
            "text/plain": [
              "(tensor([-1,  2,  5]), tensor([-1,  2,  5]))"
            ]
          },
          "metadata": {},
          "execution_count": 74
        }
      ]
    },
    {
      "cell_type": "code",
      "source": [
        "TEN*3, torch.mul(TEN, 3)"
      ],
      "metadata": {
        "colab": {
          "base_uri": "https://localhost:8080/"
        },
        "id": "sJio9jFBxfmT",
        "outputId": "f03b0900-ebbd-42df-d5f0-a42287409a26"
      },
      "execution_count": null,
      "outputs": [
        {
          "output_type": "execute_result",
          "data": {
            "text/plain": [
              "(tensor([ 3, 12, 21]), tensor([ 3, 12, 21]))"
            ]
          },
          "metadata": {},
          "execution_count": 75
        }
      ]
    },
    {
      "cell_type": "code",
      "source": [
        "TEN, TEN/2, torch.mul(TEN, 1/2), (TEN/2).dtype #here implicit typecasting takes place"
      ],
      "metadata": {
        "colab": {
          "base_uri": "https://localhost:8080/"
        },
        "id": "m1Ox8IV4xiI7",
        "outputId": "9ede992b-7aee-47de-90f0-13e7b9965dcd"
      },
      "execution_count": null,
      "outputs": [
        {
          "output_type": "execute_result",
          "data": {
            "text/plain": [
              "(tensor([1, 4, 7]),\n",
              " tensor([0.5000, 2.0000, 3.5000]),\n",
              " tensor([0.5000, 2.0000, 3.5000]),\n",
              " torch.float32)"
            ]
          },
          "metadata": {},
          "execution_count": 83
        }
      ]
    },
    {
      "cell_type": "code",
      "source": [
        "TEN, TEN*TEN, torch.mul(TEN, TEN)"
      ],
      "metadata": {
        "colab": {
          "base_uri": "https://localhost:8080/"
        },
        "id": "ZG-kfNBkxlYt",
        "outputId": "7c8f4a53-ed08-41d5-e7a8-e1538a7ff9bd"
      },
      "execution_count": null,
      "outputs": [
        {
          "output_type": "execute_result",
          "data": {
            "text/plain": [
              "(tensor([1, 4, 7]), tensor([ 1, 16, 49]), tensor([ 1, 16, 49]))"
            ]
          },
          "metadata": {},
          "execution_count": 87
        }
      ]
    },
    {
      "cell_type": "code",
      "source": [
        "%%time\n",
        "TEN*TEN, TEN@TEN"
      ],
      "metadata": {
        "colab": {
          "base_uri": "https://localhost:8080/"
        },
        "id": "vR3AMf4L1tmF",
        "outputId": "61b33d7d-59d0-45e4-f3f3-c46ade4930e0"
      },
      "execution_count": null,
      "outputs": [
        {
          "output_type": "stream",
          "name": "stdout",
          "text": [
            "CPU times: user 269 µs, sys: 14 µs, total: 283 µs\n",
            "Wall time: 291 µs\n"
          ]
        },
        {
          "output_type": "execute_result",
          "data": {
            "text/plain": [
              "(tensor([ 1, 16, 49]), tensor(66))"
            ]
          },
          "metadata": {},
          "execution_count": 103
        }
      ]
    },
    {
      "cell_type": "code",
      "source": [
        "%%time\n",
        "torch.dot(TEN, TEN)"
      ],
      "metadata": {
        "colab": {
          "base_uri": "https://localhost:8080/"
        },
        "id": "zznRQzW_0O9n",
        "outputId": "d1e88ba1-9f36-4ebe-f302-0abaa9213746"
      },
      "execution_count": null,
      "outputs": [
        {
          "output_type": "stream",
          "name": "stdout",
          "text": [
            "CPU times: user 967 µs, sys: 0 ns, total: 967 µs\n",
            "Wall time: 941 µs\n"
          ]
        },
        {
          "output_type": "execute_result",
          "data": {
            "text/plain": [
              "tensor(66)"
            ]
          },
          "metadata": {},
          "execution_count": 97
        }
      ]
    },
    {
      "cell_type": "code",
      "source": [
        "%%time\n",
        "torch.matmul(TEN,TEN)"
      ],
      "metadata": {
        "colab": {
          "base_uri": "https://localhost:8080/"
        },
        "id": "p_qijbx40cDD",
        "outputId": "76551533-ec4b-41e8-e209-e3940a126802"
      },
      "execution_count": null,
      "outputs": [
        {
          "output_type": "stream",
          "name": "stdout",
          "text": [
            "CPU times: user 131 µs, sys: 0 ns, total: 131 µs\n",
            "Wall time: 134 µs\n"
          ]
        },
        {
          "output_type": "execute_result",
          "data": {
            "text/plain": [
              "tensor(66)"
            ]
          },
          "metadata": {},
          "execution_count": 95
        }
      ]
    },
    {
      "cell_type": "code",
      "source": [
        "T=torch.tensor([[1,2],[3,4],[5,6]])\n",
        "T, T.shape, T.dtype"
      ],
      "metadata": {
        "colab": {
          "base_uri": "https://localhost:8080/"
        },
        "id": "Rianz9-O1iGf",
        "outputId": "a4305407-463e-463d-cbb7-4fca257f2820"
      },
      "execution_count": null,
      "outputs": [
        {
          "output_type": "execute_result",
          "data": {
            "text/plain": [
              "(tensor([[1, 2],\n",
              "         [3, 4],\n",
              "         [5, 6]]),\n",
              " torch.Size([3, 2]),\n",
              " torch.int64)"
            ]
          },
          "metadata": {},
          "execution_count": 202
        }
      ]
    },
    {
      "cell_type": "code",
      "source": [
        "A=torch.tensor([[1,2],[3,4],[5,6]])\n",
        "A, A.shape, A.dtype, A.ndim"
      ],
      "metadata": {
        "colab": {
          "base_uri": "https://localhost:8080/"
        },
        "id": "--Xd1gTm5z4T",
        "outputId": "32ad9171-8153-4da9-93fe-d62b7667a574"
      },
      "execution_count": null,
      "outputs": [
        {
          "output_type": "execute_result",
          "data": {
            "text/plain": [
              "(tensor([[1, 2],\n",
              "         [3, 4],\n",
              "         [5, 6]]),\n",
              " torch.Size([3, 2]),\n",
              " torch.int64,\n",
              " 2)"
            ]
          },
          "metadata": {},
          "execution_count": 203
        }
      ]
    },
    {
      "cell_type": "code",
      "source": [
        "AT=torch.transpose(A, 0, 1)\n",
        "AT, AT.shape, AT.dtype, AT.ndim"
      ],
      "metadata": {
        "colab": {
          "base_uri": "https://localhost:8080/"
        },
        "id": "Lw_ATuUFBaE9",
        "outputId": "91f7219c-38e2-42b5-ae2b-d2e65712ea88"
      },
      "execution_count": null,
      "outputs": [
        {
          "output_type": "execute_result",
          "data": {
            "text/plain": [
              "(tensor([[1, 3, 5],\n",
              "         [2, 4, 6]]),\n",
              " torch.Size([2, 3]),\n",
              " torch.int64,\n",
              " 2)"
            ]
          },
          "metadata": {},
          "execution_count": 204
        }
      ]
    },
    {
      "cell_type": "code",
      "source": [
        "AT@T, T@AT"
      ],
      "metadata": {
        "colab": {
          "base_uri": "https://localhost:8080/"
        },
        "id": "8PntY11I6HC-",
        "outputId": "4eaf126a-cb72-4db2-e78c-e756b026e400"
      },
      "execution_count": null,
      "outputs": [
        {
          "output_type": "execute_result",
          "data": {
            "text/plain": [
              "(tensor([[35, 44],\n",
              "         [44, 56]]),\n",
              " tensor([[ 5, 11, 17],\n",
              "         [11, 25, 39],\n",
              "         [17, 39, 61]]))"
            ]
          },
          "metadata": {},
          "execution_count": 205
        }
      ]
    },
    {
      "cell_type": "markdown",
      "source": [
        "###Here the contracted dimensions of the two tensors should meet, contracted dimension means\n",
        "\n",
        "(9, 4, 5)\n",
        "\n",
        "      |  |\n",
        "\n",
        "      (4, 5, 7)"
      ],
      "metadata": {
        "id": "amXoc99V_dpe"
      }
    },
    {
      "cell_type": "code",
      "source": [
        "C=torch.ones(9,4,5)\n",
        "C.dtype, C.shape"
      ],
      "metadata": {
        "colab": {
          "base_uri": "https://localhost:8080/"
        },
        "id": "YXV1bye76eSy",
        "outputId": "97483b4d-d63f-4ff8-ebc6-c7ad46841833"
      },
      "execution_count": null,
      "outputs": [
        {
          "output_type": "execute_result",
          "data": {
            "text/plain": [
              "(torch.float32, torch.Size([9, 4, 5]))"
            ]
          },
          "metadata": {},
          "execution_count": 183
        }
      ]
    },
    {
      "cell_type": "code",
      "source": [
        "D=torch.ones(4,5,7)\n",
        "D.dtype, D.shape"
      ],
      "metadata": {
        "colab": {
          "base_uri": "https://localhost:8080/"
        },
        "id": "IKVSU9Tn7efz",
        "outputId": "090d9a0b-c675-4470-c752-de4ac5582740"
      },
      "execution_count": null,
      "outputs": [
        {
          "output_type": "execute_result",
          "data": {
            "text/plain": [
              "(torch.float32, torch.Size([4, 5, 7]))"
            ]
          },
          "metadata": {},
          "execution_count": 184
        }
      ]
    },
    {
      "cell_type": "code",
      "source": [
        "E=torch.tensordot(C,D)"
      ],
      "metadata": {
        "id": "RkxpXWXT781x"
      },
      "execution_count": null,
      "outputs": []
    },
    {
      "cell_type": "code",
      "source": [
        "E, E.shape"
      ],
      "metadata": {
        "colab": {
          "base_uri": "https://localhost:8080/"
        },
        "id": "9P8l02hE8FkT",
        "outputId": "4c59e2b2-19d8-4860-af7c-f82a5c380578"
      },
      "execution_count": null,
      "outputs": [
        {
          "output_type": "execute_result",
          "data": {
            "text/plain": [
              "(tensor([[20., 20., 20., 20., 20., 20., 20.],\n",
              "         [20., 20., 20., 20., 20., 20., 20.],\n",
              "         [20., 20., 20., 20., 20., 20., 20.],\n",
              "         [20., 20., 20., 20., 20., 20., 20.],\n",
              "         [20., 20., 20., 20., 20., 20., 20.],\n",
              "         [20., 20., 20., 20., 20., 20., 20.],\n",
              "         [20., 20., 20., 20., 20., 20., 20.],\n",
              "         [20., 20., 20., 20., 20., 20., 20.],\n",
              "         [20., 20., 20., 20., 20., 20., 20.]]),\n",
              " torch.Size([9, 7]))"
            ]
          },
          "metadata": {},
          "execution_count": 179
        }
      ]
    },
    {
      "cell_type": "markdown",
      "source": [
        "##Tensor Aggragation (finding min, max, mean, sum, etc)"
      ],
      "metadata": {
        "id": "5kMSYyBdiOBH"
      }
    },
    {
      "cell_type": "code",
      "source": [
        "x=torch.arange(0,100,10)\n",
        "x, x.dtype"
      ],
      "metadata": {
        "id": "BIrDmDaR-0mz",
        "colab": {
          "base_uri": "https://localhost:8080/"
        },
        "outputId": "56f8c919-a7e3-4085-a2f6-92e762622a66"
      },
      "execution_count": null,
      "outputs": [
        {
          "output_type": "execute_result",
          "data": {
            "text/plain": [
              "(tensor([ 0, 10, 20, 30, 40, 50, 60, 70, 80, 90]), torch.int64)"
            ]
          },
          "metadata": {},
          "execution_count": 12
        }
      ]
    },
    {
      "cell_type": "code",
      "source": [
        "torch.min(x), x.min()"
      ],
      "metadata": {
        "colab": {
          "base_uri": "https://localhost:8080/"
        },
        "id": "RcpiVcE5ivU7",
        "outputId": "b9aa34ff-889c-4f9f-cc99-6f3092d0776b"
      },
      "execution_count": null,
      "outputs": [
        {
          "output_type": "execute_result",
          "data": {
            "text/plain": [
              "(tensor(0), tensor(0))"
            ]
          },
          "metadata": {},
          "execution_count": 3
        }
      ]
    },
    {
      "cell_type": "code",
      "source": [
        "torch.max(x), x.max()"
      ],
      "metadata": {
        "colab": {
          "base_uri": "https://localhost:8080/"
        },
        "id": "j2JTimmOizSR",
        "outputId": "4e36b451-ddf6-408b-f876-b2f0c697aef5"
      },
      "execution_count": null,
      "outputs": [
        {
          "output_type": "execute_result",
          "data": {
            "text/plain": [
              "(tensor(90), tensor(90))"
            ]
          },
          "metadata": {},
          "execution_count": 4
        }
      ]
    },
    {
      "cell_type": "code",
      "source": [
        "torch.mean(x.type(torch.float32)), x.type(torch.float16).mean()"
      ],
      "metadata": {
        "colab": {
          "base_uri": "https://localhost:8080/"
        },
        "id": "ngHr-vjZi6eh",
        "outputId": "03c837d2-1b4c-4c6b-9272-badb9e25bc75"
      },
      "execution_count": null,
      "outputs": [
        {
          "output_type": "execute_result",
          "data": {
            "text/plain": [
              "(tensor(45.), tensor(45., dtype=torch.float16))"
            ]
          },
          "metadata": {},
          "execution_count": 18
        }
      ]
    },
    {
      "cell_type": "markdown",
      "source": [
        "##Finding positional(index value of) min and max"
      ],
      "metadata": {
        "id": "PoAiEqwdv8cU"
      }
    },
    {
      "cell_type": "code",
      "source": [
        "x.argmin(), x.argmax()"
      ],
      "metadata": {
        "colab": {
          "base_uri": "https://localhost:8080/"
        },
        "id": "KgN737xNjAkS",
        "outputId": "37a3549c-4157-4327-8867-97d3b70737c6"
      },
      "execution_count": null,
      "outputs": [
        {
          "output_type": "execute_result",
          "data": {
            "text/plain": [
              "(tensor(0), tensor(9))"
            ]
          },
          "metadata": {},
          "execution_count": 24
        }
      ]
    },
    {
      "cell_type": "markdown",
      "source": [
        "## Reshaping, stacking, squeezing and unsqueezing tensors"
      ],
      "metadata": {
        "id": "Dg3Mfz572xZe"
      }
    },
    {
      "cell_type": "markdown",
      "source": [
        "### * Reshaping - reshapes an input tensor to a defined shape\n"
      ],
      "metadata": {
        "id": "qHdX9BRY8UHs"
      }
    },
    {
      "cell_type": "code",
      "source": [
        "import torch\n",
        "x = torch.arange(20.,32.)\n",
        "x, x.shape"
      ],
      "metadata": {
        "colab": {
          "base_uri": "https://localhost:8080/"
        },
        "id": "dmAYKJRHwCHF",
        "outputId": "ede3fb6c-4484-4043-bad8-c261ec5e1ada"
      },
      "execution_count": null,
      "outputs": [
        {
          "output_type": "execute_result",
          "data": {
            "text/plain": [
              "(tensor([20., 21., 22., 23., 24., 25., 26., 27., 28., 29., 30., 31.]),\n",
              " torch.Size([12]))"
            ]
          },
          "metadata": {},
          "execution_count": 31
        }
      ]
    },
    {
      "cell_type": "code",
      "source": [
        "x_reshaped1= x.reshape(3,4)\n",
        "x_reshaped1, x_reshaped1.shape"
      ],
      "metadata": {
        "colab": {
          "base_uri": "https://localhost:8080/"
        },
        "id": "cv8-AfIJ418X",
        "outputId": "f87d36e9-e9a0-4216-ed76-2f7a2df3118b"
      },
      "execution_count": null,
      "outputs": [
        {
          "output_type": "execute_result",
          "data": {
            "text/plain": [
              "(tensor([[20., 21., 22., 23.],\n",
              "         [24., 25., 26., 27.],\n",
              "         [28., 29., 30., 31.]]),\n",
              " torch.Size([3, 4]))"
            ]
          },
          "metadata": {},
          "execution_count": 36
        }
      ]
    },
    {
      "cell_type": "code",
      "source": [
        "x_reshaped2= x.reshape(2,3,2)\n",
        "x_reshaped2, x_reshaped2.shape"
      ],
      "metadata": {
        "colab": {
          "base_uri": "https://localhost:8080/"
        },
        "id": "yaIsJgEj5Fq7",
        "outputId": "4fb1d542-6367-47f9-d604-00d37025b58b"
      },
      "execution_count": null,
      "outputs": [
        {
          "output_type": "execute_result",
          "data": {
            "text/plain": [
              "(tensor([[[20., 21.],\n",
              "          [22., 23.],\n",
              "          [24., 25.]],\n",
              " \n",
              "         [[26., 27.],\n",
              "          [28., 29.],\n",
              "          [30., 31.]]]),\n",
              " torch.Size([2, 3, 2]))"
            ]
          },
          "metadata": {},
          "execution_count": 39
        }
      ]
    },
    {
      "cell_type": "code",
      "source": [
        "x_reshaped2= x.reshape(3,2,2)\n",
        "x_reshaped2, x_reshaped2.shape"
      ],
      "metadata": {
        "colab": {
          "base_uri": "https://localhost:8080/"
        },
        "id": "BBLCPe256ORn",
        "outputId": "54bb16a9-7992-4763-f898-fe7f643477f1"
      },
      "execution_count": null,
      "outputs": [
        {
          "output_type": "execute_result",
          "data": {
            "text/plain": [
              "(tensor([[[20., 21.],\n",
              "          [22., 23.]],\n",
              " \n",
              "         [[24., 25.],\n",
              "          [26., 27.]],\n",
              " \n",
              "         [[28., 29.],\n",
              "          [30., 31.]]]),\n",
              " torch.Size([3, 2, 2]))"
            ]
          },
          "metadata": {},
          "execution_count": 40
        }
      ]
    },
    {
      "cell_type": "code",
      "source": [
        "x_reshaped3= x.reshape(3,1,2,2)\n",
        "x_reshaped3, x_reshaped3.shape"
      ],
      "metadata": {
        "colab": {
          "base_uri": "https://localhost:8080/"
        },
        "id": "Gmb98s446m7z",
        "outputId": "0584aeec-685d-4939-cd1c-9f06aa9ad1f7"
      },
      "execution_count": null,
      "outputs": [
        {
          "output_type": "execute_result",
          "data": {
            "text/plain": [
              "(tensor([[[[20., 21.],\n",
              "           [22., 23.]]],\n",
              " \n",
              " \n",
              "         [[[24., 25.],\n",
              "           [26., 27.]]],\n",
              " \n",
              " \n",
              "         [[[28., 29.],\n",
              "           [30., 31.]]]]),\n",
              " torch.Size([3, 1, 2, 2]))"
            ]
          },
          "metadata": {},
          "execution_count": 42
        }
      ]
    },
    {
      "cell_type": "code",
      "source": [],
      "metadata": {
        "id": "MlFvFB-97ctx"
      },
      "execution_count": null,
      "outputs": []
    },
    {
      "cell_type": "markdown",
      "source": [
        "###*View- Return a view of an input tensor of certain shape but keep the same emmory as the original tensor"
      ],
      "metadata": {
        "id": "L220xiSz8gkP"
      }
    },
    {
      "cell_type": "code",
      "source": [
        "p=torch.arange(30., 42.)\n",
        "p, p.shape"
      ],
      "metadata": {
        "colab": {
          "base_uri": "https://localhost:8080/"
        },
        "id": "HwAqLslV8nEP",
        "outputId": "46ca34b4-770f-4af3-e1dc-2924874f1158"
      },
      "execution_count": null,
      "outputs": [
        {
          "output_type": "execute_result",
          "data": {
            "text/plain": [
              "(tensor([30., 31., 32., 33., 34., 35., 36., 37., 38., 39., 40., 41.]),\n",
              " torch.Size([12]))"
            ]
          },
          "metadata": {},
          "execution_count": 55
        }
      ]
    },
    {
      "cell_type": "code",
      "source": [
        "#change the view\n",
        "p1=p.view(1,12)\n",
        "p1, p1.shape"
      ],
      "metadata": {
        "colab": {
          "base_uri": "https://localhost:8080/"
        },
        "id": "maVLu1SX9Vq7",
        "outputId": "24b1446d-e787-4e62-a248-43a3c4da8de6"
      },
      "execution_count": null,
      "outputs": [
        {
          "output_type": "execute_result",
          "data": {
            "text/plain": [
              "(tensor([[ 5., 31., 32., 33., 34., 35., 36., 37., 38., 39., 40., 41.]]),\n",
              " torch.Size([1, 12]))"
            ]
          },
          "metadata": {},
          "execution_count": 58
        }
      ]
    },
    {
      "cell_type": "code",
      "source": [
        "p1[:,0] =5\n",
        "p, p1\n",
        "\n",
        "#this means that changing p1 will change p because a view of a tensor shares the same memory as the original input tensor.\n",
        "#i.e. here p1 is the view of p"
      ],
      "metadata": {
        "colab": {
          "base_uri": "https://localhost:8080/"
        },
        "id": "STxzfkGf-Re9",
        "outputId": "1384069a-1f16-455c-efd8-788c18157c6e"
      },
      "execution_count": null,
      "outputs": [
        {
          "output_type": "execute_result",
          "data": {
            "text/plain": [
              "(tensor([ 5., 31., 32., 33., 34., 35., 36., 37., 38., 39., 40., 41.]),\n",
              " tensor([[ 5., 31., 32., 33., 34., 35., 36., 37., 38., 39., 40., 41.]]))"
            ]
          },
          "metadata": {},
          "execution_count": 60
        }
      ]
    },
    {
      "cell_type": "markdown",
      "source": [
        "###* Stacking - combine multiple tensors on top of each other(vstack) or sidebyside\n",
        "\n",
        "in reallity the same elemnts gets stacked"
      ],
      "metadata": {
        "id": "7UIXlKx38otg"
      }
    },
    {
      "cell_type": "code",
      "source": [
        "p_stacked=torch.stack([p,p,p],dim=1) # basically 'dim' is axis(which can take either 0/1 for this example)\n",
        "p_stacked, p_stacked.shape"
      ],
      "metadata": {
        "colab": {
          "base_uri": "https://localhost:8080/"
        },
        "id": "3Xb1acy28tgu",
        "outputId": "9c6a9a94-7b89-4659-9c40-70291447131d"
      },
      "execution_count": null,
      "outputs": [
        {
          "output_type": "execute_result",
          "data": {
            "text/plain": [
              "(tensor([[ 5.,  5.,  5.],\n",
              "         [31., 31., 31.],\n",
              "         [32., 32., 32.],\n",
              "         [33., 33., 33.],\n",
              "         [34., 34., 34.],\n",
              "         [35., 35., 35.],\n",
              "         [36., 36., 36.],\n",
              "         [37., 37., 37.],\n",
              "         [38., 38., 38.],\n",
              "         [39., 39., 39.],\n",
              "         [40., 40., 40.],\n",
              "         [41., 41., 41.]]),\n",
              " torch.Size([12, 3]))"
            ]
          },
          "metadata": {},
          "execution_count": 67
        }
      ]
    },
    {
      "cell_type": "markdown",
      "source": [
        "###*Squeeze - remove all 1 dimensions from a tensor"
      ],
      "metadata": {
        "id": "Ut6BkeQ38y7A"
      }
    },
    {
      "cell_type": "code",
      "source": [
        "r=torch.zeros(2,1,2,1,2)\n",
        "r, r.size()"
      ],
      "metadata": {
        "id": "wPZ-XKkZ85Sd",
        "colab": {
          "base_uri": "https://localhost:8080/"
        },
        "outputId": "a4e0c68f-169c-4da0-c047-d525050be152"
      },
      "execution_count": null,
      "outputs": [
        {
          "output_type": "execute_result",
          "data": {
            "text/plain": [
              "(tensor([[[[[0., 0.]],\n",
              " \n",
              "           [[0., 0.]]]],\n",
              " \n",
              " \n",
              " \n",
              "         [[[[0., 0.]],\n",
              " \n",
              "           [[0., 0.]]]]]),\n",
              " torch.Size([2, 1, 2, 1, 2]))"
            ]
          },
          "metadata": {},
          "execution_count": 8
        }
      ]
    },
    {
      "cell_type": "code",
      "source": [
        "r1=torch.squeeze(r)\n",
        "r1, r1.size()"
      ],
      "metadata": {
        "colab": {
          "base_uri": "https://localhost:8080/"
        },
        "id": "zZlnkt7Q6dn8",
        "outputId": "32ac6f6f-2945-4113-e0ca-efe7d3f7724a"
      },
      "execution_count": null,
      "outputs": [
        {
          "output_type": "execute_result",
          "data": {
            "text/plain": [
              "(tensor([[[0., 0.],\n",
              "          [0., 0.]],\n",
              " \n",
              "         [[0., 0.],\n",
              "          [0., 0.]]]),\n",
              " torch.Size([2, 2, 2]))"
            ]
          },
          "metadata": {},
          "execution_count": 9
        }
      ]
    },
    {
      "cell_type": "code",
      "source": [
        "s=torch.arange(2,14,1)\n",
        "s, s.size()"
      ],
      "metadata": {
        "colab": {
          "base_uri": "https://localhost:8080/"
        },
        "id": "1O9bEjNW62YW",
        "outputId": "9a7dfb85-47f4-495f-a55a-44d8ed08751f"
      },
      "execution_count": null,
      "outputs": [
        {
          "output_type": "execute_result",
          "data": {
            "text/plain": [
              "(tensor([ 2,  3,  4,  5,  6,  7,  8,  9, 10, 11, 12, 13]), torch.Size([12]))"
            ]
          },
          "metadata": {},
          "execution_count": 14
        }
      ]
    },
    {
      "cell_type": "code",
      "source": [
        "s1=s.reshape(1,3,1,4)\n",
        "s1, s1.size()"
      ],
      "metadata": {
        "colab": {
          "base_uri": "https://localhost:8080/"
        },
        "id": "8URe5OUM7KXt",
        "outputId": "bcc035f8-56ca-49f5-995e-10b6822a29d0"
      },
      "execution_count": null,
      "outputs": [
        {
          "output_type": "execute_result",
          "data": {
            "text/plain": [
              "(tensor([[[[ 2,  3,  4,  5]],\n",
              " \n",
              "          [[ 6,  7,  8,  9]],\n",
              " \n",
              "          [[10, 11, 12, 13]]]]),\n",
              " torch.Size([1, 3, 1, 4]))"
            ]
          },
          "metadata": {},
          "execution_count": 19
        }
      ]
    },
    {
      "cell_type": "code",
      "source": [
        "s2=torch.squeeze(s1)\n",
        "s2, s2.size()"
      ],
      "metadata": {
        "colab": {
          "base_uri": "https://localhost:8080/"
        },
        "id": "H8cpGh9d7vEV",
        "outputId": "4f3fbbe8-22e8-466b-b1fb-1fa2debf58d3"
      },
      "execution_count": null,
      "outputs": [
        {
          "output_type": "execute_result",
          "data": {
            "text/plain": [
              "(tensor([[ 2,  3,  4,  5],\n",
              "         [ 6,  7,  8,  9],\n",
              "         [10, 11, 12, 13]]),\n",
              " torch.Size([3, 4]))"
            ]
          },
          "metadata": {},
          "execution_count": 17
        }
      ]
    },
    {
      "cell_type": "markdown",
      "source": [
        "### * Unsqueez- add a 1 dimension to a target tensor"
      ],
      "metadata": {
        "id": "vNFVG-oI8514"
      }
    },
    {
      "cell_type": "code",
      "source": [
        "s3=torch.unsqueeze(s2, dim=0)\n",
        "s3=torch.unsqueeze(s3, dim=2)\n",
        "s3, s3.size()"
      ],
      "metadata": {
        "id": "G27niP_k886q",
        "colab": {
          "base_uri": "https://localhost:8080/"
        },
        "outputId": "36e99a60-727a-43a3-fec3-34f8a0cdcd3f"
      },
      "execution_count": null,
      "outputs": [
        {
          "output_type": "execute_result",
          "data": {
            "text/plain": [
              "(tensor([[[[ 2,  3,  4,  5]],\n",
              " \n",
              "          [[ 6,  7,  8,  9]],\n",
              " \n",
              "          [[10, 11, 12, 13]]]]),\n",
              " torch.Size([1, 3, 1, 4]))"
            ]
          },
          "metadata": {},
          "execution_count": 24
        }
      ]
    },
    {
      "cell_type": "markdown",
      "source": [
        "###* Permute - Return a view of the input with dimensions permuted(swapped) in a certain way OR Rearranges the dimensions of a target tensor in a specified order\n",
        "\n"
      ],
      "metadata": {
        "id": "x1Ps4FGX89xJ"
      }
    },
    {
      "cell_type": "code",
      "source": [
        "u=torch.arange(4,25,1)\n",
        "u, u.size()"
      ],
      "metadata": {
        "id": "75-YyiqS8-aO",
        "colab": {
          "base_uri": "https://localhost:8080/"
        },
        "outputId": "f025f3b4-7643-4828-ff31-b46c60673b6d"
      },
      "execution_count": null,
      "outputs": [
        {
          "output_type": "execute_result",
          "data": {
            "text/plain": [
              "(tensor([ 4,  5,  6,  7,  8,  9, 10, 11, 12, 13, 14, 15, 16, 17, 18, 19, 20, 21,\n",
              "         22, 23, 24]),\n",
              " torch.Size([21]))"
            ]
          },
          "metadata": {},
          "execution_count": 26
        }
      ]
    },
    {
      "cell_type": "code",
      "source": [
        "u1=u.reshape(3,1,7)\n",
        "u1, u1.size()"
      ],
      "metadata": {
        "colab": {
          "base_uri": "https://localhost:8080/"
        },
        "id": "S_sOX1Ni9Lsb",
        "outputId": "3aea9043-9ed9-4136-88da-730d3b032a21"
      },
      "execution_count": null,
      "outputs": [
        {
          "output_type": "execute_result",
          "data": {
            "text/plain": [
              "(tensor([[[ 4,  5,  6,  7,  8,  9, 10]],\n",
              " \n",
              "         [[11, 12, 13, 14, 15, 16, 17]],\n",
              " \n",
              "         [[18, 19, 20, 21, 22, 23, 24]]]),\n",
              " torch.Size([3, 1, 7]))"
            ]
          },
          "metadata": {},
          "execution_count": 28
        }
      ]
    },
    {
      "cell_type": "code",
      "source": [
        "u2=torch.permute(u1, (2,0,1)) #the bracket values are the dimension values(i.e we are swapping the dimensions within the tensor)\n",
        "u2, u2.size()"
      ],
      "metadata": {
        "colab": {
          "base_uri": "https://localhost:8080/"
        },
        "id": "dZKkMIUm9nzj",
        "outputId": "8854a358-5f94-40bc-9b7a-8b71f4b6e893"
      },
      "execution_count": null,
      "outputs": [
        {
          "output_type": "execute_result",
          "data": {
            "text/plain": [
              "(tensor([[[ 4],\n",
              "          [11],\n",
              "          [18]],\n",
              " \n",
              "         [[ 5],\n",
              "          [12],\n",
              "          [19]],\n",
              " \n",
              "         [[ 6],\n",
              "          [13],\n",
              "          [20]],\n",
              " \n",
              "         [[ 7],\n",
              "          [14],\n",
              "          [21]],\n",
              " \n",
              "         [[ 8],\n",
              "          [15],\n",
              "          [22]],\n",
              " \n",
              "         [[ 9],\n",
              "          [16],\n",
              "          [23]],\n",
              " \n",
              "         [[10],\n",
              "          [17],\n",
              "          [24]]]),\n",
              " torch.Size([7, 3, 1]))"
            ]
          },
          "metadata": {},
          "execution_count": 30
        }
      ]
    },
    {
      "cell_type": "code",
      "source": [
        "#we usually apply permute on images\n",
        "v=torch.rand(size=(224, 224,3), dtype=torch.float32) #here (height, width, color_channels\n",
        "v, v.size()"
      ],
      "metadata": {
        "colab": {
          "base_uri": "https://localhost:8080/"
        },
        "id": "n2sLlYOm96ue",
        "outputId": "2d83bd85-c1c3-462a-f4a0-87d2c895b851"
      },
      "execution_count": null,
      "outputs": [
        {
          "output_type": "execute_result",
          "data": {
            "text/plain": [
              "(tensor([[[0.0532, 0.5104, 0.3140],\n",
              "          [0.7929, 0.6707, 0.2116],\n",
              "          [0.2003, 0.1448, 0.1209],\n",
              "          ...,\n",
              "          [0.0498, 0.5967, 0.4246],\n",
              "          [0.4520, 0.4668, 0.2107],\n",
              "          [0.4770, 0.5731, 0.0585]],\n",
              " \n",
              "         [[0.4385, 0.5557, 0.8682],\n",
              "          [0.2761, 0.5424, 0.8994],\n",
              "          [0.1698, 0.4509, 0.8859],\n",
              "          ...,\n",
              "          [0.0631, 0.7932, 0.9962],\n",
              "          [0.8955, 0.1296, 0.9659],\n",
              "          [0.2125, 0.8608, 0.7823]],\n",
              " \n",
              "         [[0.2755, 0.0102, 0.6358],\n",
              "          [0.4341, 0.0289, 0.9820],\n",
              "          [0.9165, 0.3605, 0.1156],\n",
              "          ...,\n",
              "          [0.6997, 0.7547, 0.4075],\n",
              "          [0.7523, 0.2110, 0.7078],\n",
              "          [0.3644, 0.8436, 0.4427]],\n",
              " \n",
              "         ...,\n",
              " \n",
              "         [[0.1559, 0.0099, 0.7473],\n",
              "          [0.0817, 0.5236, 0.7369],\n",
              "          [0.9485, 0.5016, 0.7281],\n",
              "          ...,\n",
              "          [0.8174, 0.5608, 0.8036],\n",
              "          [0.2089, 0.0158, 0.4236],\n",
              "          [0.7629, 0.4448, 0.5670]],\n",
              " \n",
              "         [[0.8155, 0.0585, 0.8803],\n",
              "          [0.9933, 0.6930, 0.8821],\n",
              "          [0.3217, 0.8281, 0.2193],\n",
              "          ...,\n",
              "          [0.2438, 0.8723, 0.1335],\n",
              "          [0.3283, 0.5316, 0.5735],\n",
              "          [0.6964, 0.2747, 0.2502]],\n",
              " \n",
              "         [[0.8751, 0.5991, 0.4613],\n",
              "          [0.2830, 0.6291, 0.8380],\n",
              "          [0.6482, 0.0845, 0.9808],\n",
              "          ...,\n",
              "          [0.8040, 0.0284, 0.1496],\n",
              "          [0.3436, 0.4520, 0.4276],\n",
              "          [0.5497, 0.1070, 0.5849]]]),\n",
              " torch.Size([224, 224, 3]))"
            ]
          },
          "metadata": {},
          "execution_count": 47
        }
      ]
    },
    {
      "cell_type": "code",
      "source": [
        "v1=torch.squeeze(v) #this will have no effect because no 1-dimension in the tensor\n",
        "v1, v1.size()"
      ],
      "metadata": {
        "colab": {
          "base_uri": "https://localhost:8080/"
        },
        "id": "udujctyDNmTI",
        "outputId": "1c4cc6b1-9352-4e93-e5cc-4e1ecb1f4226"
      },
      "execution_count": null,
      "outputs": [
        {
          "output_type": "execute_result",
          "data": {
            "text/plain": [
              "(tensor([[[0.0532, 0.5104, 0.3140],\n",
              "          [0.7929, 0.6707, 0.2116],\n",
              "          [0.2003, 0.1448, 0.1209],\n",
              "          ...,\n",
              "          [0.0498, 0.5967, 0.4246],\n",
              "          [0.4520, 0.4668, 0.2107],\n",
              "          [0.4770, 0.5731, 0.0585]],\n",
              " \n",
              "         [[0.4385, 0.5557, 0.8682],\n",
              "          [0.2761, 0.5424, 0.8994],\n",
              "          [0.1698, 0.4509, 0.8859],\n",
              "          ...,\n",
              "          [0.0631, 0.7932, 0.9962],\n",
              "          [0.8955, 0.1296, 0.9659],\n",
              "          [0.2125, 0.8608, 0.7823]],\n",
              " \n",
              "         [[0.2755, 0.0102, 0.6358],\n",
              "          [0.4341, 0.0289, 0.9820],\n",
              "          [0.9165, 0.3605, 0.1156],\n",
              "          ...,\n",
              "          [0.6997, 0.7547, 0.4075],\n",
              "          [0.7523, 0.2110, 0.7078],\n",
              "          [0.3644, 0.8436, 0.4427]],\n",
              " \n",
              "         ...,\n",
              " \n",
              "         [[0.1559, 0.0099, 0.7473],\n",
              "          [0.0817, 0.5236, 0.7369],\n",
              "          [0.9485, 0.5016, 0.7281],\n",
              "          ...,\n",
              "          [0.8174, 0.5608, 0.8036],\n",
              "          [0.2089, 0.0158, 0.4236],\n",
              "          [0.7629, 0.4448, 0.5670]],\n",
              " \n",
              "         [[0.8155, 0.0585, 0.8803],\n",
              "          [0.9933, 0.6930, 0.8821],\n",
              "          [0.3217, 0.8281, 0.2193],\n",
              "          ...,\n",
              "          [0.2438, 0.8723, 0.1335],\n",
              "          [0.3283, 0.5316, 0.5735],\n",
              "          [0.6964, 0.2747, 0.2502]],\n",
              " \n",
              "         [[0.8751, 0.5991, 0.4613],\n",
              "          [0.2830, 0.6291, 0.8380],\n",
              "          [0.6482, 0.0845, 0.9808],\n",
              "          ...,\n",
              "          [0.8040, 0.0284, 0.1496],\n",
              "          [0.3436, 0.4520, 0.4276],\n",
              "          [0.5497, 0.1070, 0.5849]]]),\n",
              " torch.Size([224, 224, 3]))"
            ]
          },
          "metadata": {},
          "execution_count": 48
        }
      ]
    },
    {
      "cell_type": "code",
      "source": [
        "v2=torch.permute(v,(2,0,1)) #here (color_channels, height, width)\n",
        "v2, v2.shape"
      ],
      "metadata": {
        "colab": {
          "base_uri": "https://localhost:8080/"
        },
        "id": "DenKHw36PDqE",
        "outputId": "6118e69e-7232-40fd-a670-daa9e12e9574"
      },
      "execution_count": null,
      "outputs": [
        {
          "output_type": "execute_result",
          "data": {
            "text/plain": [
              "(tensor([[[0.0532, 0.7929, 0.2003,  ..., 0.0498, 0.4520, 0.4770],\n",
              "          [0.4385, 0.2761, 0.1698,  ..., 0.0631, 0.8955, 0.2125],\n",
              "          [0.2755, 0.4341, 0.9165,  ..., 0.6997, 0.7523, 0.3644],\n",
              "          ...,\n",
              "          [0.1559, 0.0817, 0.9485,  ..., 0.8174, 0.2089, 0.7629],\n",
              "          [0.8155, 0.9933, 0.3217,  ..., 0.2438, 0.3283, 0.6964],\n",
              "          [0.8751, 0.2830, 0.6482,  ..., 0.8040, 0.3436, 0.5497]],\n",
              " \n",
              "         [[0.5104, 0.6707, 0.1448,  ..., 0.5967, 0.4668, 0.5731],\n",
              "          [0.5557, 0.5424, 0.4509,  ..., 0.7932, 0.1296, 0.8608],\n",
              "          [0.0102, 0.0289, 0.3605,  ..., 0.7547, 0.2110, 0.8436],\n",
              "          ...,\n",
              "          [0.0099, 0.5236, 0.5016,  ..., 0.5608, 0.0158, 0.4448],\n",
              "          [0.0585, 0.6930, 0.8281,  ..., 0.8723, 0.5316, 0.2747],\n",
              "          [0.5991, 0.6291, 0.0845,  ..., 0.0284, 0.4520, 0.1070]],\n",
              " \n",
              "         [[0.3140, 0.2116, 0.1209,  ..., 0.4246, 0.2107, 0.0585],\n",
              "          [0.8682, 0.8994, 0.8859,  ..., 0.9962, 0.9659, 0.7823],\n",
              "          [0.6358, 0.9820, 0.1156,  ..., 0.4075, 0.7078, 0.4427],\n",
              "          ...,\n",
              "          [0.7473, 0.7369, 0.7281,  ..., 0.8036, 0.4236, 0.5670],\n",
              "          [0.8803, 0.8821, 0.2193,  ..., 0.1335, 0.5735, 0.2502],\n",
              "          [0.4613, 0.8380, 0.9808,  ..., 0.1496, 0.4276, 0.5849]]]),\n",
              " torch.Size([3, 224, 224]))"
            ]
          },
          "metadata": {},
          "execution_count": 49
        }
      ]
    },
    {
      "cell_type": "code",
      "source": [
        "v4 = (torch.rand(256, 256, 3) * 255).to(torch.uint8)\n",
        "v4, v4.shape\n"
      ],
      "metadata": {
        "colab": {
          "base_uri": "https://localhost:8080/"
        },
        "id": "84HpaR_WPdxB",
        "outputId": "f1b8853c-e54a-437d-c13f-664afd92f49b"
      },
      "execution_count": null,
      "outputs": [
        {
          "output_type": "execute_result",
          "data": {
            "text/plain": [
              "(tensor([[[168, 202,   1],\n",
              "          [228,  62, 131],\n",
              "          [ 24, 253, 104],\n",
              "          ...,\n",
              "          [ 52, 173, 105],\n",
              "          [  5,  86,  89],\n",
              "          [233, 123, 142]],\n",
              " \n",
              "         [[ 92,  51,  77],\n",
              "          [ 87, 133,  52],\n",
              "          [167, 119,  36],\n",
              "          ...,\n",
              "          [ 38, 224,  86],\n",
              "          [105, 125, 241],\n",
              "          [ 14,  10,  37]],\n",
              " \n",
              "         [[ 73, 232, 111],\n",
              "          [ 51, 135,  15],\n",
              "          [187, 125, 209],\n",
              "          ...,\n",
              "          [ 89,  35, 245],\n",
              "          [179, 152, 232],\n",
              "          [149,  95, 136]],\n",
              " \n",
              "         ...,\n",
              " \n",
              "         [[239,   2,  66],\n",
              "          [ 51,  70,  46],\n",
              "          [107,  49, 228],\n",
              "          ...,\n",
              "          [176, 135,  30],\n",
              "          [ 96,  66, 189],\n",
              "          [ 41, 181,  22]],\n",
              " \n",
              "         [[124,  26, 101],\n",
              "          [161, 169,  83],\n",
              "          [ 74, 238, 141],\n",
              "          ...,\n",
              "          [146, 226, 192],\n",
              "          [239, 155,  92],\n",
              "          [ 54, 163, 105]],\n",
              " \n",
              "         [[146,  93, 230],\n",
              "          [160,  25, 147],\n",
              "          [ 19,  86, 200],\n",
              "          ...,\n",
              "          [253,  43,  60],\n",
              "          [ 68, 147,  83],\n",
              "          [234, 142,  75]]], dtype=torch.uint8),\n",
              " torch.Size([256, 256, 3]))"
            ]
          },
          "metadata": {},
          "execution_count": 53
        }
      ]
    },
    {
      "cell_type": "markdown",
      "source": [
        "#Indexing in pytorch is same as Indexing in numpy"
      ],
      "metadata": {
        "id": "DTeDviDQVFZp"
      }
    },
    {
      "cell_type": "code",
      "source": [
        "w = torch.arange(1,10).reshape(1,3,3)\n",
        "w,w.shape"
      ],
      "metadata": {
        "colab": {
          "base_uri": "https://localhost:8080/"
        },
        "id": "KCs2k1vNSBgF",
        "outputId": "0bdd3d79-7e75-4926-8ebe-03eee0ef4b36"
      },
      "execution_count": null,
      "outputs": [
        {
          "output_type": "execute_result",
          "data": {
            "text/plain": [
              "(tensor([[[1, 2, 3],\n",
              "          [4, 5, 6],\n",
              "          [7, 8, 9]]]),\n",
              " torch.Size([1, 3, 3]))"
            ]
          },
          "metadata": {},
          "execution_count": 63
        }
      ]
    },
    {
      "cell_type": "code",
      "source": [
        "w[0][0][1]=24\n",
        "w"
      ],
      "metadata": {
        "colab": {
          "base_uri": "https://localhost:8080/"
        },
        "id": "XINczRHqTzAD",
        "outputId": "f46a06e5-fb2c-481c-aa87-a8adc7f292b8"
      },
      "execution_count": null,
      "outputs": [
        {
          "output_type": "execute_result",
          "data": {
            "text/plain": [
              "tensor([[[ 1, 24,  3],\n",
              "         [ 4,  5,  6],\n",
              "         [ 7,  8,  9]]])"
            ]
          },
          "metadata": {},
          "execution_count": 64
        }
      ]
    },
    {
      "cell_type": "code",
      "source": [
        "w[:,:,2], w[0,1,2], w[0][1][2]"
      ],
      "metadata": {
        "colab": {
          "base_uri": "https://localhost:8080/"
        },
        "id": "8yvyop2IV6ff",
        "outputId": "fcd258ad-2294-4a67-ea5f-95a8c3a0a42b"
      },
      "execution_count": null,
      "outputs": [
        {
          "output_type": "execute_result",
          "data": {
            "text/plain": [
              "(tensor([[3, 6, 9]]), tensor(6), tensor(6))"
            ]
          },
          "metadata": {},
          "execution_count": 70
        }
      ]
    },
    {
      "cell_type": "markdown",
      "source": [
        "##Pytorch tensors & Numpy\n",
        "\n",
        "Pytorch has functionality to interact with numpy\n",
        "\n",
        "* Data in numpy, want in pytorch tensor-> `torch.from_numpy(ndarray_name)`\n",
        "\n",
        "* Data in pytorch tensor, want in numpy array-> `torch.Tensor.numpy()`"
      ],
      "metadata": {
        "id": "jIGHCZV_ZnU6"
      }
    },
    {
      "cell_type": "code",
      "source": [
        "import torch\n",
        "import numpy as np\n",
        "array = np.arange(1.0, 8.0)\n",
        "tensor = torch.from_numpy(array)\n",
        "array, tensor"
      ],
      "metadata": {
        "id": "7Qmms5STaWHr",
        "colab": {
          "base_uri": "https://localhost:8080/"
        },
        "outputId": "9783663a-e95a-4060-c5d2-fca2fb86485b"
      },
      "execution_count": 3,
      "outputs": [
        {
          "output_type": "execute_result",
          "data": {
            "text/plain": [
              "(array([1., 2., 3., 4., 5., 6., 7.]),\n",
              " tensor([1., 2., 3., 4., 5., 6., 7.], dtype=torch.float64))"
            ]
          },
          "metadata": {},
          "execution_count": 3
        }
      ]
    },
    {
      "cell_type": "markdown",
      "source": [
        "###Note: By default, NumPy arrays are created with the default datatype of float64 and if you convert it to a PyTorch tensor, it'll keep the same datatype (i.e float64).\n",
        "\n",
        "###However, many PyTorch calculations outputs arr by default in float32.\n",
        "\n",
        "So if you want to convert your NumPy array (float64) -> PyTorch tensor (float64) -> PyTorch tensor (float32), you can use tensor = torch.from_numpy(array).type(torch.float32).\n",
        "\n",
        "Because we reassigned tensor above, if you change the tensor, the array stays the same.\n",
        "\n",
        "\n",
        "[ ]\n"
      ],
      "metadata": {
        "id": "P-kqno-dMNMP"
      }
    },
    {
      "cell_type": "code",
      "source": [
        "array = array + 1\n",
        "array, tensor"
      ],
      "metadata": {
        "colab": {
          "base_uri": "https://localhost:8080/"
        },
        "id": "3TGQX-RyMerN",
        "outputId": "61951728-325b-4a8f-efdb-28301548bb63"
      },
      "execution_count": 4,
      "outputs": [
        {
          "output_type": "execute_result",
          "data": {
            "text/plain": [
              "(array([2., 3., 4., 5., 6., 7., 8.]),\n",
              " tensor([1., 2., 3., 4., 5., 6., 7.], dtype=torch.float64))"
            ]
          },
          "metadata": {},
          "execution_count": 4
        }
      ]
    },
    {
      "cell_type": "markdown",
      "source": [
        "###And if you want to go from PyTorch tensor to NumPy array, you can call `tensor.numpy()`.\n"
      ],
      "metadata": {
        "id": "nmjCTP9cMniZ"
      }
    },
    {
      "cell_type": "code",
      "source": [
        "# Tensor to NumPy array\n",
        "tensor = torch.ones(7) # create a tensor of ones with dtype=float32\n",
        "numpy_tensor = tensor.numpy() # will be dtype=float32 unless changed\n",
        "tensor, numpy_tensor"
      ],
      "metadata": {
        "colab": {
          "base_uri": "https://localhost:8080/"
        },
        "id": "IXJS6Hs2MiGI",
        "outputId": "9da3933d-5302-46b9-9023-c0e6fef5a839"
      },
      "execution_count": 5,
      "outputs": [
        {
          "output_type": "execute_result",
          "data": {
            "text/plain": [
              "(tensor([1., 1., 1., 1., 1., 1., 1.]),\n",
              " array([1., 1., 1., 1., 1., 1., 1.], dtype=float32))"
            ]
          },
          "metadata": {},
          "execution_count": 5
        }
      ]
    },
    {
      "cell_type": "code",
      "execution_count": 6,
      "metadata": {
        "colab": {
          "base_uri": "https://localhost:8080/"
        },
        "id": "mMp6ZSkET4_Y",
        "outputId": "cf0bf100-5adc-438e-b48b-1447b2f41797"
      },
      "outputs": [
        {
          "output_type": "execute_result",
          "data": {
            "text/plain": [
              "(tensor([2., 2., 2., 2., 2., 2., 2.]),\n",
              " array([1., 1., 1., 1., 1., 1., 1.], dtype=float32))"
            ]
          },
          "metadata": {},
          "execution_count": 6
        }
      ],
      "source": [
        "# Change the tensor, keep the array the same\n",
        "tensor = tensor + 1\n",
        "tensor, numpy_tensor"
      ]
    },
    {
      "cell_type": "code",
      "source": [],
      "metadata": {
        "id": "F_xKKVaaNJxE"
      },
      "execution_count": null,
      "outputs": []
    }
  ]
}